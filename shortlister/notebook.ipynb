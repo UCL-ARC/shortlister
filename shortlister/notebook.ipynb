{
 "cells": [
  {
   "cell_type": "code",
   "execution_count": null,
   "metadata": {},
   "outputs": [
    {
     "data": {
      "text/plain": [
       "['C:\\\\Users\\\\shinn\\\\AppData\\\\Local\\\\Programs\\\\Python\\\\Python312\\\\python312.zip',\n",
       " 'C:\\\\Users\\\\shinn\\\\AppData\\\\Local\\\\Programs\\\\Python\\\\Python312\\\\DLLs',\n",
       " 'C:\\\\Users\\\\shinn\\\\AppData\\\\Local\\\\Programs\\\\Python\\\\Python312\\\\Lib',\n",
       " 'C:\\\\Users\\\\shinn\\\\AppData\\\\Local\\\\Programs\\\\Python\\\\Python312',\n",
       " 'c:\\\\Users\\\\shinn\\\\github_projects\\\\shortlister\\\\shortlister\\\\.venv',\n",
       " '',\n",
       " 'c:\\\\Users\\\\shinn\\\\github_projects\\\\shortlister\\\\shortlister\\\\.venv\\\\Lib\\\\site-packages',\n",
       " 'c:\\\\Users\\\\shinn\\\\github_projects\\\\shortlister\\\\shortlister\\\\.venv\\\\Lib\\\\site-packages\\\\win32',\n",
       " 'c:\\\\Users\\\\shinn\\\\github_projects\\\\shortlister\\\\shortlister\\\\.venv\\\\Lib\\\\site-packages\\\\win32\\\\lib',\n",
       " 'c:\\\\Users\\\\shinn\\\\github_projects\\\\shortlister\\\\shortlister\\\\.venv\\\\Lib\\\\site-packages\\\\Pythonwin']"
      ]
     },
     "execution_count": 2,
     "metadata": {},
     "output_type": "execute_result"
    }
   ],
   "source": [
    "from model import RANK_AND_SCORE\n",
    "\n",
    "list(RANK_AND_SCORE)"
   ]
  }
 ],
 "metadata": {
  "kernelspec": {
   "display_name": ".venv",
   "language": "python",
   "name": "python3"
  },
  "language_info": {
   "codemirror_mode": {
    "name": "ipython",
    "version": 3
   },
   "file_extension": ".py",
   "mimetype": "text/x-python",
   "name": "python",
   "nbconvert_exporter": "python",
   "pygments_lexer": "ipython3",
   "version": "3.12.5"
  }
 },
 "nbformat": 4,
 "nbformat_minor": 2
}
