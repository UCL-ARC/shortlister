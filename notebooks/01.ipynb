{
 "cells": [
  {
   "cell_type": "code",
   "execution_count": null,
   "metadata": {},
   "outputs": [
    {
     "data": {
      "text/plain": [
       "[(1, 2),\n",
       " (1, 4),\n",
       " (1, 5),\n",
       " (1, 6),\n",
       " (1, 7),\n",
       " (2, 3),\n",
       " (2, 4),\n",
       " (2, 5),\n",
       " (2, 6),\n",
       " (2, 7),\n",
       " (3, 4),\n",
       " (3, 5),\n",
       " (3, 6),\n",
       " (3, 7),\n",
       " (4, 5),\n",
       " (4, 6),\n",
       " (4, 7),\n",
       " (5, 6),\n",
       " (5, 7),\n",
       " (6, 7)]"
      ]
     },
     "execution_count": 25,
     "metadata": {},
     "output_type": "execute_result"
    }
   ],
   "source": [
    "from itertools import combinations\n",
    "#mylist = [1,2,3,4,5,6,7]\n",
    "#RESULT = {(1,3):1}\n",
    "\n",
    "def get_pair(object_list):\n",
    "    \"\"\"get every possible item pair in the list\"\"\"\n",
    "    unique_pairs = list(combinations(object_list, 2))\n",
    "    pairs_to_compare =[pair for pair in unique_pairs if pair not in RESULT]\n",
    "    # then check against compared pairs in RESULTS\n",
    "    # return not compared pairs\n",
    "    return pairs_to_compare\n",
    "get_pair(mylist)"
   ]
  },
  {
   "cell_type": "code",
   "execution_count": null,
   "metadata": {},
   "outputs": [
    {
     "data": {
      "text/plain": [
       "[4, 2, 1, 3]"
      ]
     },
     "execution_count": 10,
     "metadata": {},
     "output_type": "execute_result"
    }
   ],
   "source": [
    "score = {1:4,\n",
    "           2:8,\n",
    "           3:2,\n",
    "           4:9}\n",
    "list = [1,2,3,4]\n",
    "list.sort(key=lambda x : score[x],reverse=True) #highest score first \n",
    "ranked = sorted(list,key=lambda item:score[item],reverse=True)\n",
    "\n",
    "ranked\n"
   ]
  },
  {
   "cell_type": "code",
   "execution_count": 19,
   "metadata": {},
   "outputs": [
    {
     "name": "stdout",
     "output_type": "stream",
     "text": [
      "['apple', 'bottle', 'book', 'dog', 'moon', 'bike', 'car', 'chair', 'door', 'laptop', 'phone', 'river', 'sun', 'tree', 'banana', 'cat', 'mountain', 'pen', 'table', 'window']\n"
     ]
    }
   ],
   "source": [
    "sample_result = {\n",
    "    (\"apple\", \"banana\"): \"apple\",\n",
    "    (\"car\", \"bike\"): \"car\",\n",
    "    (\"cat\", \"dog\"): \"dog\",\n",
    "    (\"sun\", \"moon\"): \"moon\",\n",
    "    (\"table\", \"chair\"): \"chair\",\n",
    "    (\"tree\", \"river\"): \"tree\",\n",
    "    (\"mountain\", \"book\"): \"book\",\n",
    "    (\"pen\", \"phone\"): \"pen\",\n",
    "    (\"laptop\", \"bottle\"): \"bottle\",\n",
    "    (\"window\", \"door\"): \"door\",\n",
    "    (\"apple\", \"car\"): \"apple\",\n",
    "    (\"banana\", \"dog\"): \"dog\",\n",
    "    (\"bike\", \"tree\"): \"bike\",\n",
    "    (\"cat\", \"moon\"): \"moon\",\n",
    "    (\"sun\", \"mountain\"): \"sun\",\n",
    "    (\"chair\", \"river\"): \"river\",\n",
    "    (\"table\", \"laptop\"): \"laptop\",\n",
    "    (\"bottle\", \"window\"): \"bottle\",\n",
    "    (\"book\", \"door\"): \"book\",\n",
    "    (\"pen\", \"phone\"): \"phone\",\n",
    "}\n",
    "\n",
    "mylist = [\n",
    "    \"apple\", \"banana\", \"bike\", \"bottle\", \"book\", \"car\", \"cat\", \"chair\", \n",
    "    \"door\", \"dog\", \"laptop\", \"moon\", \"mountain\", \"pen\", \"phone\", \"river\", \n",
    "    \"sun\", \"table\", \"tree\", \"window\"\n",
    "]\n",
    "\n",
    "wins = {}\n",
    "for object in mylist:\n",
    "    #award 1 point for every win\n",
    "    outcome = list(sample_result.values())\n",
    "    score = outcome.count(object)\n",
    "    wins[object] = score\n",
    "\n",
    "ranked = sorted(mylist, key=lambda item: wins[item], reverse=True)\n",
    "print(ranked)"
   ]
  }
 ],
 "metadata": {
  "kernelspec": {
   "display_name": ".venv",
   "language": "python",
   "name": "python3"
  },
  "language_info": {
   "codemirror_mode": {
    "name": "ipython",
    "version": 3
   },
   "file_extension": ".py",
   "mimetype": "text/x-python",
   "name": "python",
   "nbconvert_exporter": "python",
   "pygments_lexer": "ipython3",
   "version": "3.12.5"
  }
 },
 "nbformat": 4,
 "nbformat_minor": 2
}
