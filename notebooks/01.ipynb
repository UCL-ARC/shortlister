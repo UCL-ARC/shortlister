{
 "cells": [
  {
   "cell_type": "code",
   "execution_count": null,
   "metadata": {},
   "outputs": [],
   "source": [
    "from itertools import combinations\n",
    "mylist = [1,2,3,4,5,6,7]\n",
    "RESULT = {(1,3):1}\n",
    "\n",
    "def get_pair(object_list):\n",
    "    \"\"\"get every possible item pair in the list\"\"\"\n",
    "    unique_pairs = list(combinations(object_list, 2))\n",
    "    pairs_to_compare =[pair for pair in unique_pairs if pair not in RESULT]\n",
    "    # then check against compared pairs in RESULTS\n",
    "    # return not compared pairs\n",
    "    return pairs_to_compare\n",
    "get_pair(mylist)"
   ]
  },
  {
   "cell_type": "code",
   "execution_count": null,
   "metadata": {},
   "outputs": [],
   "source": [
    "score = {1:4,\n",
    "           2:8,\n",
    "           3:2,\n",
    "           4:9}\n",
    "list = [1,2,3,4]\n",
    "list.sort(key=lambda x : score[x],reverse=True) #highest score first \n",
    "ranked = sorted(list,key=lambda item:score[item],reverse=True)\n",
    "\n",
    "ranked"
   ]
  },
  {
   "cell_type": "code",
   "execution_count": null,
   "metadata": {},
   "outputs": [],
   "source": [
    "sample_result = {\n",
    "    (\"apple\", \"banana\"): \"apple\",\n",
    "    (\"car\", \"bike\"): \"car\",\n",
    "    (\"cat\", \"dog\"): \"dog\",\n",
    "    (\"sun\", \"moon\"): \"moon\",\n",
    "    (\"table\", \"chair\"): \"chair\",\n",
    "    (\"tree\", \"river\"): \"tree\",\n",
    "    (\"mountain\", \"book\"): \"book\",\n",
    "    (\"pen\", \"phone\"): \"pen\",\n",
    "    (\"laptop\", \"bottle\"): \"bottle\",\n",
    "    (\"window\", \"door\"): \"door\",\n",
    "    (\"apple\", \"car\"): \"apple\",\n",
    "    (\"banana\", \"dog\"): \"dog\",\n",
    "    (\"bike\", \"tree\"): \"bike\",\n",
    "    (\"cat\", \"moon\"): \"moon\",\n",
    "    (\"sun\", \"mountain\"): \"sun\",\n",
    "    (\"chair\", \"river\"): \"river\",\n",
    "    (\"table\", \"laptop\"): \"laptop\",\n",
    "    (\"bottle\", \"window\"): \"bottle\",\n",
    "    (\"book\", \"door\"): \"book\",\n",
    "    (\"pen\", \"phone\"): \"phone\",\n",
    "}\n",
    "\n",
    "mylist = [\n",
    "    \"apple\", \"banana\", \"bike\", \"bottle\", \"book\", \"car\", \"cat\", \"chair\", \n",
    "    \"door\", \"dog\", \"laptop\", \"moon\", \"mountain\", \"pen\", \"phone\", \"river\", \n",
    "    \"sun\", \"table\", \"tree\", \"window\"\n",
    "]\n",
    "\n",
    "wins = {}\n",
    "for object in mylist:\n",
    "    #award 1 point for every win\n",
    "    outcome = list(sample_result.values())\n",
    "    score = outcome.count(object)\n",
    "    wins[object] = score\n",
    "\n",
    "ranked = sorted(mylist, key=lambda item: wins[item], reverse=True)\n",
    "print(ranked)\n",
    "\n",
    "key = frozenset(combinations(mylist, 2))\n",
    "key"
   ]
  },
  {
   "cell_type": "markdown",
   "metadata": {},
   "source": [
    "# Sorting\n",
    "\n",
    "# \n",
    "# ranking()\n",
    "\n",
    "combining current method and result from bubble sort\n",
    "\n",
    "iterate through the list:\n",
    "  check the item with the most \n",
    "\n",
    "\n",
    "current method flaws: when there is ties, rankings might be not well sorted\n",
    " "
   ]
  },
  {
   "cell_type": "code",
   "execution_count": 3,
   "metadata": {},
   "outputs": [
    {
     "ename": "ValueError",
     "evalue": "Cycle detected! Sorting is not possible.",
     "output_type": "error",
     "traceback": [
      "\u001b[1;31m---------------------------------------------------------------------------\u001b[0m",
      "\u001b[1;31mValueError\u001b[0m                                Traceback (most recent call last)",
      "Cell \u001b[1;32mIn[3], line 44\u001b[0m\n\u001b[0;32m     38\u001b[0m     \u001b[38;5;28;01mreturn\u001b[39;00m sorted_list\n\u001b[0;32m     40\u001b[0m \u001b[38;5;66;03m# use this to sort based on results from bubble sort\u001b[39;00m\n\u001b[0;32m     41\u001b[0m \n\u001b[0;32m     42\u001b[0m \n\u001b[0;32m     43\u001b[0m \u001b[38;5;66;03m# Example usage\u001b[39;00m\n\u001b[1;32m---> 44\u001b[0m sorted_items \u001b[38;5;241m=\u001b[39m \u001b[43morder_items\u001b[49m\u001b[43m(\u001b[49m\u001b[43mrelationships\u001b[49m\u001b[43m,\u001b[49m\u001b[43m \u001b[49m\u001b[43mitems\u001b[49m\u001b[43m)\u001b[49m\n\u001b[0;32m     45\u001b[0m \u001b[38;5;28mprint\u001b[39m(\u001b[38;5;124m\"\u001b[39m\u001b[38;5;124mSorted items:\u001b[39m\u001b[38;5;124m\"\u001b[39m, sorted_items)\n",
      "Cell \u001b[1;32mIn[3], line 36\u001b[0m, in \u001b[0;36morder_items\u001b[1;34m(relationships, items)\u001b[0m\n\u001b[0;32m     34\u001b[0m \u001b[38;5;66;03m# Check for cycles\u001b[39;00m\n\u001b[0;32m     35\u001b[0m \u001b[38;5;28;01mif\u001b[39;00m \u001b[38;5;28mlen\u001b[39m(sorted_list) \u001b[38;5;241m!=\u001b[39m \u001b[38;5;28mlen\u001b[39m(items):\n\u001b[1;32m---> 36\u001b[0m     \u001b[38;5;28;01mraise\u001b[39;00m \u001b[38;5;167;01mValueError\u001b[39;00m(\u001b[38;5;124m\"\u001b[39m\u001b[38;5;124mCycle detected! Sorting is not possible.\u001b[39m\u001b[38;5;124m\"\u001b[39m)\n\u001b[0;32m     38\u001b[0m \u001b[38;5;28;01mreturn\u001b[39;00m sorted_list\n",
      "\u001b[1;31mValueError\u001b[0m: Cycle detected! Sorting is not possible."
     ]
    }
   ],
   "source": [
    "from collections import defaultdict, deque\n",
    "\n",
    "\n",
    "relationships = {\n",
    "    ('A', 'B'): 'B',  # A wins over B\n",
    "    ('B', 'C'): 'C',  # B wins over C\n",
    "    ('A', 'C'): 'A'   # A wins over C\n",
    "}\n",
    "\n",
    "items = ['A', 'B', 'C']\n",
    "\n",
    "def order_items(relationships, items):\n",
    "    # Build the graph\n",
    "    graph = defaultdict(list)\n",
    "    in_degree = {item: 0 for item in items}\n",
    "\n",
    "    for (obj1, obj2), winner in relationships.items():\n",
    "        loser = obj1 if winner == obj2 else obj2\n",
    "        graph[winner].append(loser)\n",
    "        in_degree[loser] += 1\n",
    "\n",
    "    # Topological sort\n",
    "    queue = deque([item for item in items if in_degree[item] == 0])\n",
    "    sorted_list = []\n",
    "\n",
    "    while queue:\n",
    "        current = queue.popleft()\n",
    "        sorted_list.append(current)\n",
    "        for neighbor in graph[current]:\n",
    "            in_degree[neighbor] -= 1\n",
    "            if in_degree[neighbor] == 0:\n",
    "                queue.append(neighbor)\n",
    "\n",
    "    # Check for cycles\n",
    "    if len(sorted_list) != len(items):\n",
    "        raise ValueError(\"Cycle detected! Sorting is not possible.\")\n",
    "\n",
    "    return sorted_list\n",
    "\n",
    "# use this to sort based on results from bubble sort\n",
    "\n",
    "\n",
    "# Example usage\n",
    "sorted_items = order_items(relationships, items)\n",
    "print(\"Sorted items:\", sorted_items)"
   ]
  },
  {
   "cell_type": "code",
   "execution_count": null,
   "metadata": {},
   "outputs": [
    {
     "name": "stdout",
     "output_type": "stream",
     "text": [
      "{1: 'one', 2: 'two'}\n"
     ]
    },
    {
     "data": {
      "text/plain": [
       "(3, 'three')"
      ]
     },
     "execution_count": 4,
     "metadata": {},
     "output_type": "execute_result"
    }
   ],
   "source": [
    "dic = {1: \"one\", 2: \"two\", 3: \"three\"}\n",
    "removed = dic.popitem()\n",
    "print(dic)\n",
    "removed"
   ]
  },
  {
   "cell_type": "code",
   "execution_count": null,
   "metadata": {},
   "outputs": [],
   "source": [
    "def comparison(list_to_rank, result):\n",
    "    \"\"\"Starts the comparison process.(To be changed)\"\"\"\n",
    "    pairs = get_pair(\n",
    "        list_to_rank, result\n",
    "    )  # returns a list of pairs that can be used to compare\n",
    "    for pair in pairs:\n",
    "        print(f\"{pair[0].name}[l] : {pair[1].name}[r]\")\n",
    "        print(f\"{[(criterion.name,score) for criterion,score in pair[0].scores]}   {[(criterion.name,score) for criterion,score in pair[1].scores]}\")\n",
    "        print(f\"{pair[0].notes}   {pair[1].notes}\")\n",
    "\n",
    "        choice = readkey()\n",
    "        if choice == \"r\" or \"l\":\n",
    "            winner = choose(key,pair)\n",
    "        if choice == \"u\":\n",
    "            # if choice is \"u\"(undo), choose function removes the last item from dic and returns it as a pair to be added back to the queue\n",
    "            removed_pair = choose(key)\n",
    "            pairs.append(removed_pair)\n",
    "        save_results(frozenset(pair), winner, result)\n",
    "\n",
    "def choose(key,candidates: tuple,result):\n",
    "    \"\"\"Get user choice of which object out of the pair they prefer.\"\"\"\n",
    "    while True:\n",
    "        try:\n",
    "            if key == \"r\":\n",
    "                winner = candidates[1]\n",
    "            elif key == \"l\":\n",
    "                winner = candidates[0]\n",
    "            elif key == \"u\":\n",
    "                candidates = result.popitem()\n",
    "                continue\n",
    "            return winner\n",
    "        except Exception as e:\n",
    "            print(f\"{e}:selection must be r or l\")\n",
    "\n",
    "\n",
    "\n",
    "#pairs = list if pair\n",
    "#iterating thru the pair\n",
    "# l or r save the pair to dic and continue the loop until last\n",
    "# u "
   ]
  },
  {
   "cell_type": "markdown",
   "metadata": {},
   "source": [
    "# Datetime"
   ]
  },
  {
   "cell_type": "code",
   "execution_count": 7,
   "metadata": {},
   "outputs": [
    {
     "data": {
      "text/plain": [
       "'20250113104356'"
      ]
     },
     "execution_count": 7,
     "metadata": {},
     "output_type": "execute_result"
    }
   ],
   "source": [
    "import datetime\n",
    "\n",
    "datetime.datetime.now().strftime(\"%Y%m%d%H%M\")"
   ]
  }
 ],
 "metadata": {
  "kernelspec": {
   "display_name": ".venv",
   "language": "python",
   "name": "python3"
  },
  "language_info": {
   "codemirror_mode": {
    "name": "ipython",
    "version": 3
   },
   "file_extension": ".py",
   "mimetype": "text/x-python",
   "name": "python",
   "nbconvert_exporter": "python",
   "pygments_lexer": "ipython3",
   "version": "3.12.5"
  }
 },
 "nbformat": 4,
 "nbformat_minor": 2
}
