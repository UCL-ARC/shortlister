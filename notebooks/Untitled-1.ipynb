{
 "cells": [
  {
   "cell_type": "code",
   "execution_count": 4,
   "metadata": {},
   "outputs": [],
   "source": [
    "import sys\n",
    "sys.path.append(\"..\")"
   ]
  },
  {
   "cell_type": "code",
   "execution_count": 5,
   "metadata": {},
   "outputs": [],
   "source": [
    "from pathlib import Path\n",
    "from shortlister.controller import Controller\n",
    "\n",
    "\n",
    "ctrl = Controller(Path(\"../test_role\"))\n",
    "# \"Emma\" in applicant.name\n",
    "# input returns string which needs to be re-evaluated\n",
    "\n",
    "#filter = eval(\"name('Emma')\")\n",
    "#eval(f\"[applicant for applicant in ctrl.shortlist.applicants if {filter}]\")\n"
   ]
  },
  {
   "cell_type": "code",
   "execution_count": null,
   "metadata": {},
   "outputs": [
    {
     "ename": "SyntaxError",
     "evalue": "did you forget parentheses around the comprehension target? (851126337.py, line 14)",
     "output_type": "error",
     "traceback": [
      "\u001b[1;36m  Cell \u001b[1;32mIn[6], line 14\u001b[1;36m\u001b[0m\n\u001b[1;33m    my_dict = dict([criterion,score for criterion,score in ctrl.shortlist.role.criteria.items()])\u001b[0m\n\u001b[1;37m                    ^\u001b[0m\n\u001b[1;31mSyntaxError\u001b[0m\u001b[1;31m:\u001b[0m did you forget parentheses around the comprehension target?\n"
     ]
    }
   ],
   "source": [
    "\n",
    "from shortlister.model import Applicant, Criterion\n",
    "\n",
    "\n",
    "print([applicant.scores for applicant in ctrl.shortlist.applicants])\n",
    "\n",
    "ctrl.shortlist.role.criteria\n",
    "\n",
    "def score(applicant:Applicant,name,score):\n",
    "    for criterion in applicant.scores:\n",
    "        if getattr(criterion,\"name\") == name:\n",
    "            return applicant.scores[criterion] == score\n",
    "        else:\n",
    "            return False\n",
    "\n",
    "name = \"PhD\"\n",
    "[criterion for criterion in [applicant.scores for applicant in ctrl.shortlist.applicants]]\n",
    "my_dict = dict([criterion,score for criterion,score in ctrl.shortlist.role.criteria.items()])\n",
    "\n",
    "test = ctrl.shortlist.applicants[0].scores.keys()\n",
    "\n",
    "for i in test:\n",
    "    getattr(i,name) == score \n",
    "print(test)\n",
    "\n",
    "# check if criterion(key)'s name matches the name and score(value) \n",
    "\n",
    "dict(\"\")\n"
   ]
  },
  {
   "cell_type": "code",
   "execution_count": null,
   "metadata": {},
   "outputs": [
    {
     "name": "stdout",
     "output_type": "stream",
     "text": [
      "dict_keys([Criterion(name='PhD', description='Degree or relevant experience')])\n"
     ]
    }
   ],
   "source": [
    "test = ctrl.shortlist.applicants[0].scores.keys()\n",
    "\n",
    "for i in test:\n",
    "    getattr(i,name) == score \n",
    "print(test)"
   ]
  },
  {
   "cell_type": "code",
   "execution_count": null,
   "metadata": {},
   "outputs": [
    {
     "name": "stdout",
     "output_type": "stream",
     "text": [
      "Current pair: ('A', 'B')\n",
      "A wins this round.\n",
      "Current pair: ('B', 'C')\n",
      "B wins this round.\n",
      "Current pair: ('C', 'D')\n",
      "D wins this round.\n",
      "Current pair: ('D', 'E')\n",
      "E wins this round.\n",
      "\n",
      "Final winner: E\n"
     ]
    }
   ],
   "source": [
    "def dynamic_pair_comparison(items):\n",
    "    if len(items) < 2:\n",
    "        print(\"The list must have at least two items to pair.\")\n",
    "        return\n",
    "    \n",
    "    index = 0  # start with the first pair\n",
    "\n",
    "    while index < len(items) - 1:\n",
    "        # pair the current item with the next item\n",
    "        current_pair = (items[index], items[index + 1])\n",
    "        print(f\"Current pair: {current_pair}\")\n",
    "\n",
    "        # choose the better item\n",
    "        better_item = input()\n",
    "        if better_item == \"1\":\n",
    "            print(f\"{items[index]} wins this round.\")\n",
    "            # keep the current item, compare with the next item\n",
    "            index += 1\n",
    "        elif better_item == \"2\":\n",
    "            print(f\"{items[index + 1]} wins this round.\")\n",
    "            items[index] = items[index + 1]\n",
    "            index += 1\n",
    "        else:\n",
    "            print(\"Invalid input. Please enter 1 or 2.\")\n",
    "\n",
    "    print(f\"\\nFinal winner: {items[index]}\")\n",
    "\n",
    "items_list = [\"A\", \"B\", \"C\", \"D\", \"E\"]\n",
    "dynamic_pair_comparison(items_list)\n"
   ]
  },
  {
   "cell_type": "code",
   "execution_count": null,
   "metadata": {},
   "outputs": [
    {
     "name": "stdout",
     "output_type": "stream",
     "text": [
      "selection must be r or l\n",
      "selection must be r or l\n",
      "selection must be r or l\n",
      "selection must be r or l\n"
     ]
    }
   ],
   "source": [
    "def get_pair_ver2(mylist):\n",
    "    \n",
    "    # assume list is ranked by score from high to low, start with the highest scored\n",
    "    index = 0\n",
    "    pair_index = 1\n",
    "\n",
    "    # get a pair of first object with the object next in the list\n",
    "    # make the comparison, and the next pair will be the one that didnt win and the next index in the list\n",
    "\n",
    "    for i in mylist:\n",
    "        pair = frozenset([mylist[index],mylist[pair_index]])\n",
    "        print(f\"Current pair: {pair}\")\n",
    "        winner = None\n",
    "        try: \n",
    "            choice = input(\"r or l\")\n",
    "            if choice == \"r\":\n",
    "                winner = pair[1]\n",
    "            elif choice == \"l\":\n",
    "                winner = pair[0]\n",
    "        except Exception:\n",
    "            print(\"selection must be r or l\")\n",
    "\n",
    "        if winner == mylist[index]:\n",
    "            index += 1\n",
    "            pair_index += 1\n",
    "            pair = frozenset([mylist[index],mylist[pair_index]])\n",
    "        elif winner == mylist[index+1]:\n",
    "            pair_index += 1\n",
    "            pair = frozenset([mylist[index],mylist[pair_index]])\n",
    "\n",
    "items_list = [\"A\", \"B\", \"C\", \"D\", \"E\"]\n",
    "get_pair_ver2(items_list)"
   ]
  }
 ],
 "metadata": {
  "kernelspec": {
   "display_name": ".venv",
   "language": "python",
   "name": "python3"
  },
  "language_info": {
   "codemirror_mode": {
    "name": "ipython",
    "version": 3
   },
   "file_extension": ".py",
   "mimetype": "text/x-python",
   "name": "python",
   "nbconvert_exporter": "python",
   "pygments_lexer": "ipython3",
   "version": "3.12.5"
  }
 },
 "nbformat": 4,
 "nbformat_minor": 2
}
