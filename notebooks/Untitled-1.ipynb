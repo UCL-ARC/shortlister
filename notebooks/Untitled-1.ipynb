{
 "cells": [
  {
   "cell_type": "code",
   "execution_count": 1,
   "metadata": {},
   "outputs": [],
   "source": [
    "import sys\n",
    "sys.path.append(\"..\")"
   ]
  },
  {
   "cell_type": "code",
   "execution_count": 2,
   "metadata": {},
   "outputs": [
    {
     "name": "stdout",
     "output_type": "stream",
     "text": [
      "Couldn't retrieve applicant data from: ..\\test_role\\Michael_Davis_89763_Candidate_Pack.pdf\n"
     ]
    }
   ],
   "source": [
    "from pathlib import Path\n",
    "from shortlister.controller import Controller\n",
    "\n",
    "\n",
    "ctrl = Controller(Path(\"../test_role\"))\n",
    "# \"Emma\" in applicant.name\n",
    "# input returns string which needs to be re-evaluated\n",
    "\n",
    "#filter = eval(\"name('Emma')\")\n",
    "#eval(f\"[applicant for applicant in ctrl.shortlist.applicants if {filter}]\")\n"
   ]
  },
  {
   "cell_type": "code",
   "execution_count": 10,
   "metadata": {},
   "outputs": [
    {
     "name": "stdout",
     "output_type": "stream",
     "text": [
      "[{}, {}, {}]\n"
     ]
    },
    {
     "data": {
      "text/plain": [
       "[{}, {}, {}]"
      ]
     },
     "execution_count": 10,
     "metadata": {},
     "output_type": "execute_result"
    }
   ],
   "source": [
    "\n",
    "from shortlister.model import Applicant\n",
    "\n",
    "\n",
    "print([applicant.scores for applicant in ctrl.shortlist.applicants])\n",
    "\n",
    "ctrl.shortlist.role.criteria\n",
    "\n",
    "def score(applicant:Applicant,name,score):\n",
    "    return score == [criterion[name] for criterion in applicant.scores]\n",
    "\n",
    "name = \"PhD\"\n",
    "[criterion for criterion in [applicant.scores for applicant in ctrl.shortlist.applicants]]\n",
    "\n"
   ]
  },
  {
   "cell_type": "code",
   "execution_count": null,
   "metadata": {},
   "outputs": [],
   "source": []
  },
  {
   "cell_type": "code",
   "execution_count": null,
   "metadata": {},
   "outputs": [],
   "source": []
  }
 ],
 "metadata": {
  "kernelspec": {
   "display_name": ".venv",
   "language": "python",
   "name": "python3"
  },
  "language_info": {
   "codemirror_mode": {
    "name": "ipython",
    "version": 3
   },
   "file_extension": ".py",
   "mimetype": "text/x-python",
   "name": "python",
   "nbconvert_exporter": "python",
   "pygments_lexer": "ipython3",
   "version": "3.12.5"
  }
 },
 "nbformat": 4,
 "nbformat_minor": 2
}
