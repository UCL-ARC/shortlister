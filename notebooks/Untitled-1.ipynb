{
 "cells": [
  {
   "cell_type": "code",
   "execution_count": 4,
   "metadata": {},
   "outputs": [],
   "source": [
    "import sys\n",
    "sys.path.append(\"..\")"
   ]
  },
  {
   "cell_type": "code",
   "execution_count": 5,
   "metadata": {},
   "outputs": [],
   "source": [
    "from pathlib import Path\n",
    "from shortlister.controller import Controller\n",
    "\n",
    "\n",
    "ctrl = Controller(Path(\"../test_role\"))\n",
    "# \"Emma\" in applicant.name\n",
    "# input returns string which needs to be re-evaluated\n",
    "\n",
    "#filter = eval(\"name('Emma')\")\n",
    "#eval(f\"[applicant for applicant in ctrl.shortlist.applicants if {filter}]\")\n"
   ]
  },
  {
   "cell_type": "code",
   "execution_count": null,
   "metadata": {},
   "outputs": [
    {
     "ename": "SyntaxError",
     "evalue": "did you forget parentheses around the comprehension target? (851126337.py, line 14)",
     "output_type": "error",
     "traceback": [
      "\u001b[1;36m  Cell \u001b[1;32mIn[6], line 14\u001b[1;36m\u001b[0m\n\u001b[1;33m    my_dict = dict([criterion,score for criterion,score in ctrl.shortlist.role.criteria.items()])\u001b[0m\n\u001b[1;37m                    ^\u001b[0m\n\u001b[1;31mSyntaxError\u001b[0m\u001b[1;31m:\u001b[0m did you forget parentheses around the comprehension target?\n"
     ]
    }
   ],
   "source": [
    "\n",
    "from shortlister.model import Applicant, Criterion\n",
    "\n",
    "\n",
    "print([applicant.scores for applicant in ctrl.shortlist.applicants])\n",
    "\n",
    "ctrl.shortlist.role.criteria\n",
    "\n",
    "def score(applicant:Applicant,name,score):\n",
    "    for criterion in applicant.scores:\n",
    "        if getattr(criterion,\"name\") == name:\n",
    "            return applicant.scores[criterion] == score\n",
    "        else:\n",
    "            return False\n",
    "\n",
    "name = \"PhD\"\n",
    "[criterion for criterion in [applicant.scores for applicant in ctrl.shortlist.applicants]]\n",
    "my_dict = dict([criterion,score for criterion,score in ctrl.shortlist.role.criteria.items()])\n",
    "\n",
    "test = ctrl.shortlist.applicants[0].scores.keys()\n",
    "\n",
    "for i in test:\n",
    "    getattr(i,name) == score \n",
    "print(test)\n",
    "\n",
    "# check if criterion(key)'s name matches the name and score(value) \n",
    "\n",
    "dict(\"\")\n"
   ]
  },
  {
   "cell_type": "code",
   "execution_count": null,
   "metadata": {},
   "outputs": [
    {
     "name": "stdout",
     "output_type": "stream",
     "text": [
      "dict_keys([Criterion(name='PhD', description='Degree or relevant experience')])\n"
     ]
    }
   ],
   "source": [
    "test = ctrl.shortlist.applicants[0].scores.keys()\n",
    "\n",
    "for i in test:\n",
    "    getattr(i,name) == score \n",
    "print(test)"
   ]
  },
  {
   "cell_type": "code",
   "execution_count": null,
   "metadata": {},
   "outputs": [],
   "source": []
  }
 ],
 "metadata": {
  "kernelspec": {
   "display_name": ".venv",
   "language": "python",
   "name": "python3"
  },
  "language_info": {
   "codemirror_mode": {
    "name": "ipython",
    "version": 3
   },
   "file_extension": ".py",
   "mimetype": "text/x-python",
   "name": "python",
   "nbconvert_exporter": "python",
   "pygments_lexer": "ipython3",
   "version": "3.12.5"
  }
 },
 "nbformat": 4,
 "nbformat_minor": 2
}
